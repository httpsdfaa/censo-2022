{
 "cells": [
  {
   "cell_type": "markdown",
   "metadata": {},
   "source": [
    "# FERRAMENTAS"
   ]
  },
  {
   "cell_type": "code",
   "execution_count": 1,
   "metadata": {},
   "outputs": [],
   "source": [
    "import pandas as pd\n",
    "import matplotlib.pyplot as plt\n",
    "import numpy as np"
   ]
  },
  {
   "cell_type": "code",
   "execution_count": 2,
   "metadata": {},
   "outputs": [],
   "source": [
    "df = pd.read_csv(\"raw_datas/Censo 2022 - Crescimento Populacional - mescla.csv\", sep=\";\")"
   ]
  },
  {
   "cell_type": "markdown",
   "metadata": {},
   "source": [
    "# EXPLORAÇÃO DOS DADOS"
   ]
  },
  {
   "cell_type": "code",
   "execution_count": 3,
   "metadata": {},
   "outputs": [
    {
     "data": {
      "text/html": [
       "<div>\n",
       "<style scoped>\n",
       "    .dataframe tbody tr th:only-of-type {\n",
       "        vertical-align: middle;\n",
       "    }\n",
       "\n",
       "    .dataframe tbody tr th {\n",
       "        vertical-align: top;\n",
       "    }\n",
       "\n",
       "    .dataframe thead th {\n",
       "        text-align: right;\n",
       "    }\n",
       "</style>\n",
       "<table border=\"1\" class=\"dataframe\">\n",
       "  <thead>\n",
       "    <tr style=\"text-align: right;\">\n",
       "      <th></th>\n",
       "      <th>ano_da_pesquisa</th>\n",
       "      <th>populacao(pessoas)</th>\n",
       "      <th>UF</th>\n",
       "    </tr>\n",
       "  </thead>\n",
       "  <tbody>\n",
       "    <tr>\n",
       "      <th>0</th>\n",
       "      <td>1872</td>\n",
       "      <td>NaN</td>\n",
       "      <td>Acre</td>\n",
       "    </tr>\n",
       "    <tr>\n",
       "      <th>1</th>\n",
       "      <td>1890</td>\n",
       "      <td>NaN</td>\n",
       "      <td>Acre</td>\n",
       "    </tr>\n",
       "    <tr>\n",
       "      <th>2</th>\n",
       "      <td>1900</td>\n",
       "      <td>NaN</td>\n",
       "      <td>Acre</td>\n",
       "    </tr>\n",
       "    <tr>\n",
       "      <th>3</th>\n",
       "      <td>1920</td>\n",
       "      <td>92379.0</td>\n",
       "      <td>Acre</td>\n",
       "    </tr>\n",
       "    <tr>\n",
       "      <th>4</th>\n",
       "      <td>1940</td>\n",
       "      <td>79768.0</td>\n",
       "      <td>Acre</td>\n",
       "    </tr>\n",
       "  </tbody>\n",
       "</table>\n",
       "</div>"
      ],
      "text/plain": [
       "   ano_da_pesquisa  populacao(pessoas)    UF\n",
       "0             1872                 NaN  Acre\n",
       "1             1890                 NaN  Acre\n",
       "2             1900                 NaN  Acre\n",
       "3             1920             92379.0  Acre\n",
       "4             1940             79768.0  Acre"
      ]
     },
     "execution_count": 3,
     "metadata": {},
     "output_type": "execute_result"
    }
   ],
   "source": [
    "# verificando as primeiras linhas do data fame\n",
    "df.head()"
   ]
  },
  {
   "cell_type": "code",
   "execution_count": 4,
   "metadata": {},
   "outputs": [
    {
     "data": {
      "text/plain": [
       "ano_da_pesquisa         int64\n",
       "populacao(pessoas)    float64\n",
       "UF                     object\n",
       "dtype: object"
      ]
     },
     "execution_count": 4,
     "metadata": {},
     "output_type": "execute_result"
    }
   ],
   "source": [
    "# verificando os tipos do dataframe\n",
    "df.dtypes"
   ]
  },
  {
   "cell_type": "code",
   "execution_count": 5,
   "metadata": {},
   "outputs": [
    {
     "data": {
      "text/plain": [
       "ano_da_pesquisa        0\n",
       "populacao(pessoas)    32\n",
       "UF                     0\n",
       "dtype: int64"
      ]
     },
     "execution_count": 5,
     "metadata": {},
     "output_type": "execute_result"
    }
   ],
   "source": [
    "# verificando se há valores nulos\n",
    "df.isnull().sum()"
   ]
  },
  {
   "cell_type": "code",
   "execution_count": 6,
   "metadata": {},
   "outputs": [],
   "source": [
    "\"\"\"\n",
    "    Alguns anos não possui valor de população,\n",
    "    ou seja, não teve censo. Com isso, estes valores irei configurá-los para 0\n",
    "\"\"\"\n",
    "df['populacao(pessoas)'] = df['populacao(pessoas)'].fillna(0)"
   ]
  },
  {
   "cell_type": "code",
   "execution_count": 7,
   "metadata": {},
   "outputs": [
    {
     "data": {
      "text/plain": [
       "ano_da_pesquisa       0\n",
       "populacao(pessoas)    0\n",
       "UF                    0\n",
       "dtype: int64"
      ]
     },
     "execution_count": 7,
     "metadata": {},
     "output_type": "execute_result"
    }
   ],
   "source": [
    "# verificando se foi corrigido os valores nulos\n",
    "df.isnull().sum()"
   ]
  },
  {
   "cell_type": "code",
   "execution_count": 8,
   "metadata": {},
   "outputs": [
    {
     "data": {
      "text/html": [
       "<div>\n",
       "<style scoped>\n",
       "    .dataframe tbody tr th:only-of-type {\n",
       "        vertical-align: middle;\n",
       "    }\n",
       "\n",
       "    .dataframe tbody tr th {\n",
       "        vertical-align: top;\n",
       "    }\n",
       "\n",
       "    .dataframe thead th {\n",
       "        text-align: right;\n",
       "    }\n",
       "</style>\n",
       "<table border=\"1\" class=\"dataframe\">\n",
       "  <thead>\n",
       "    <tr style=\"text-align: right;\">\n",
       "      <th></th>\n",
       "      <th>ano_da_pesquisa</th>\n",
       "      <th>populacao(pessoas)</th>\n",
       "    </tr>\n",
       "  </thead>\n",
       "  <tbody>\n",
       "    <tr>\n",
       "      <th>count</th>\n",
       "      <td>351.000000</td>\n",
       "      <td>3.510000e+02</td>\n",
       "    </tr>\n",
       "    <tr>\n",
       "      <th>mean</th>\n",
       "      <td>1954.230769</td>\n",
       "      <td>3.312813e+06</td>\n",
       "    </tr>\n",
       "    <tr>\n",
       "      <th>std</th>\n",
       "      <td>45.904880</td>\n",
       "      <td>5.499379e+06</td>\n",
       "    </tr>\n",
       "    <tr>\n",
       "      <th>min</th>\n",
       "      <td>1872.000000</td>\n",
       "      <td>0.000000e+00</td>\n",
       "    </tr>\n",
       "    <tr>\n",
       "      <th>25%</th>\n",
       "      <td>1920.000000</td>\n",
       "      <td>3.295480e+05</td>\n",
       "    </tr>\n",
       "    <tr>\n",
       "      <th>50%</th>\n",
       "      <td>1960.000000</td>\n",
       "      <td>1.383445e+06</td>\n",
       "    </tr>\n",
       "    <tr>\n",
       "      <th>75%</th>\n",
       "      <td>1991.000000</td>\n",
       "      <td>3.635324e+06</td>\n",
       "    </tr>\n",
       "    <tr>\n",
       "      <th>max</th>\n",
       "      <td>2022.000000</td>\n",
       "      <td>4.441124e+07</td>\n",
       "    </tr>\n",
       "  </tbody>\n",
       "</table>\n",
       "</div>"
      ],
      "text/plain": [
       "       ano_da_pesquisa  populacao(pessoas)\n",
       "count       351.000000        3.510000e+02\n",
       "mean       1954.230769        3.312813e+06\n",
       "std          45.904880        5.499379e+06\n",
       "min        1872.000000        0.000000e+00\n",
       "25%        1920.000000        3.295480e+05\n",
       "50%        1960.000000        1.383445e+06\n",
       "75%        1991.000000        3.635324e+06\n",
       "max        2022.000000        4.441124e+07"
      ]
     },
     "execution_count": 8,
     "metadata": {},
     "output_type": "execute_result"
    }
   ],
   "source": [
    "# vendo algumas cálculos estatísticos do dataframe\n",
    "df.describe()"
   ]
  },
  {
   "cell_type": "code",
   "execution_count": 9,
   "metadata": {},
   "outputs": [
    {
     "data": {
      "text/plain": [
       "np.int64(0)"
      ]
     },
     "execution_count": 9,
     "metadata": {},
     "output_type": "execute_result"
    }
   ],
   "source": [
    "# verificando se há algum dado duplicado\n",
    "df.duplicated().sum()"
   ]
  },
  {
   "cell_type": "code",
   "execution_count": 10,
   "metadata": {},
   "outputs": [
    {
     "data": {
      "text/html": [
       "<div>\n",
       "<style scoped>\n",
       "    .dataframe tbody tr th:only-of-type {\n",
       "        vertical-align: middle;\n",
       "    }\n",
       "\n",
       "    .dataframe tbody tr th {\n",
       "        vertical-align: top;\n",
       "    }\n",
       "\n",
       "    .dataframe thead th {\n",
       "        text-align: right;\n",
       "    }\n",
       "</style>\n",
       "<table border=\"1\" class=\"dataframe\">\n",
       "  <thead>\n",
       "    <tr style=\"text-align: right;\">\n",
       "      <th></th>\n",
       "      <th>ano_da_pesquisa</th>\n",
       "      <th>populacao(pessoas)</th>\n",
       "      <th>UF</th>\n",
       "    </tr>\n",
       "  </thead>\n",
       "  <tbody>\n",
       "    <tr>\n",
       "      <th>0</th>\n",
       "      <td>1872</td>\n",
       "      <td>0.0</td>\n",
       "      <td>Acre</td>\n",
       "    </tr>\n",
       "    <tr>\n",
       "      <th>1</th>\n",
       "      <td>1890</td>\n",
       "      <td>0.0</td>\n",
       "      <td>Acre</td>\n",
       "    </tr>\n",
       "    <tr>\n",
       "      <th>2</th>\n",
       "      <td>1900</td>\n",
       "      <td>0.0</td>\n",
       "      <td>Acre</td>\n",
       "    </tr>\n",
       "    <tr>\n",
       "      <th>3</th>\n",
       "      <td>1920</td>\n",
       "      <td>92379.0</td>\n",
       "      <td>Acre</td>\n",
       "    </tr>\n",
       "    <tr>\n",
       "      <th>4</th>\n",
       "      <td>1940</td>\n",
       "      <td>79768.0</td>\n",
       "      <td>Acre</td>\n",
       "    </tr>\n",
       "    <tr>\n",
       "      <th>...</th>\n",
       "      <td>...</td>\n",
       "      <td>...</td>\n",
       "      <td>...</td>\n",
       "    </tr>\n",
       "    <tr>\n",
       "      <th>346</th>\n",
       "      <td>1980</td>\n",
       "      <td>738688.0</td>\n",
       "      <td>Tocantins</td>\n",
       "    </tr>\n",
       "    <tr>\n",
       "      <th>347</th>\n",
       "      <td>1991</td>\n",
       "      <td>920116.0</td>\n",
       "      <td>Tocantins</td>\n",
       "    </tr>\n",
       "    <tr>\n",
       "      <th>348</th>\n",
       "      <td>2000</td>\n",
       "      <td>1157690.0</td>\n",
       "      <td>Tocantins</td>\n",
       "    </tr>\n",
       "    <tr>\n",
       "      <th>349</th>\n",
       "      <td>2010</td>\n",
       "      <td>1383445.0</td>\n",
       "      <td>Tocantins</td>\n",
       "    </tr>\n",
       "    <tr>\n",
       "      <th>350</th>\n",
       "      <td>2022</td>\n",
       "      <td>1511460.0</td>\n",
       "      <td>Tocantins</td>\n",
       "    </tr>\n",
       "  </tbody>\n",
       "</table>\n",
       "<p>351 rows × 3 columns</p>\n",
       "</div>"
      ],
      "text/plain": [
       "     ano_da_pesquisa  populacao(pessoas)         UF\n",
       "0               1872                 0.0       Acre\n",
       "1               1890                 0.0       Acre\n",
       "2               1900                 0.0       Acre\n",
       "3               1920             92379.0       Acre\n",
       "4               1940             79768.0       Acre\n",
       "..               ...                 ...        ...\n",
       "346             1980            738688.0  Tocantins\n",
       "347             1991            920116.0  Tocantins\n",
       "348             2000           1157690.0  Tocantins\n",
       "349             2010           1383445.0  Tocantins\n",
       "350             2022           1511460.0  Tocantins\n",
       "\n",
       "[351 rows x 3 columns]"
      ]
     },
     "execution_count": 10,
     "metadata": {},
     "output_type": "execute_result"
    }
   ],
   "source": [
    "\"\"\"\n",
    "    Utilizei o excel para tratar os dados e fazer limpeza, então não farei uma\n",
    "    limpeza aprofundada pois aparentemente não há necessidade\n",
    "\"\"\"\n",
    "\n",
    "df"
   ]
  },
  {
   "cell_type": "code",
   "execution_count": 11,
   "metadata": {},
   "outputs": [
    {
     "data": {
      "text/html": [
       "<div>\n",
       "<style scoped>\n",
       "    .dataframe tbody tr th:only-of-type {\n",
       "        vertical-align: middle;\n",
       "    }\n",
       "\n",
       "    .dataframe tbody tr th {\n",
       "        vertical-align: top;\n",
       "    }\n",
       "\n",
       "    .dataframe thead th {\n",
       "        text-align: right;\n",
       "    }\n",
       "</style>\n",
       "<table border=\"1\" class=\"dataframe\">\n",
       "  <thead>\n",
       "    <tr style=\"text-align: right;\">\n",
       "      <th></th>\n",
       "      <th>ano_da_pesquisa</th>\n",
       "      <th>populacao(pessoas)</th>\n",
       "      <th>crescimento_populacional</th>\n",
       "    </tr>\n",
       "  </thead>\n",
       "  <tbody>\n",
       "    <tr>\n",
       "      <th>0</th>\n",
       "      <td>1872</td>\n",
       "      <td>9930478.0</td>\n",
       "      <td>NaN</td>\n",
       "    </tr>\n",
       "    <tr>\n",
       "      <th>1</th>\n",
       "      <td>1890</td>\n",
       "      <td>14333915.0</td>\n",
       "      <td>44.342649</td>\n",
       "    </tr>\n",
       "    <tr>\n",
       "      <th>2</th>\n",
       "      <td>1900</td>\n",
       "      <td>17438434.0</td>\n",
       "      <td>21.658556</td>\n",
       "    </tr>\n",
       "    <tr>\n",
       "      <th>3</th>\n",
       "      <td>1920</td>\n",
       "      <td>30635605.0</td>\n",
       "      <td>75.678648</td>\n",
       "    </tr>\n",
       "    <tr>\n",
       "      <th>4</th>\n",
       "      <td>1940</td>\n",
       "      <td>41236315.0</td>\n",
       "      <td>34.602581</td>\n",
       "    </tr>\n",
       "    <tr>\n",
       "      <th>5</th>\n",
       "      <td>1950</td>\n",
       "      <td>51944397.0</td>\n",
       "      <td>25.967602</td>\n",
       "    </tr>\n",
       "    <tr>\n",
       "      <th>6</th>\n",
       "      <td>1960</td>\n",
       "      <td>70992343.0</td>\n",
       "      <td>36.669876</td>\n",
       "    </tr>\n",
       "    <tr>\n",
       "      <th>7</th>\n",
       "      <td>1970</td>\n",
       "      <td>94508583.0</td>\n",
       "      <td>33.125037</td>\n",
       "    </tr>\n",
       "    <tr>\n",
       "      <th>8</th>\n",
       "      <td>1980</td>\n",
       "      <td>121150573.0</td>\n",
       "      <td>28.190022</td>\n",
       "    </tr>\n",
       "    <tr>\n",
       "      <th>9</th>\n",
       "      <td>1991</td>\n",
       "      <td>146917459.0</td>\n",
       "      <td>21.268481</td>\n",
       "    </tr>\n",
       "    <tr>\n",
       "      <th>10</th>\n",
       "      <td>2000</td>\n",
       "      <td>169872859.0</td>\n",
       "      <td>15.624692</td>\n",
       "    </tr>\n",
       "    <tr>\n",
       "      <th>11</th>\n",
       "      <td>2010</td>\n",
       "      <td>190755799.0</td>\n",
       "      <td>12.293276</td>\n",
       "    </tr>\n",
       "    <tr>\n",
       "      <th>12</th>\n",
       "      <td>2022</td>\n",
       "      <td>203080756.0</td>\n",
       "      <td>6.461118</td>\n",
       "    </tr>\n",
       "  </tbody>\n",
       "</table>\n",
       "</div>"
      ],
      "text/plain": [
       "    ano_da_pesquisa  populacao(pessoas)  crescimento_populacional\n",
       "0              1872           9930478.0                       NaN\n",
       "1              1890          14333915.0                 44.342649\n",
       "2              1900          17438434.0                 21.658556\n",
       "3              1920          30635605.0                 75.678648\n",
       "4              1940          41236315.0                 34.602581\n",
       "5              1950          51944397.0                 25.967602\n",
       "6              1960          70992343.0                 36.669876\n",
       "7              1970          94508583.0                 33.125037\n",
       "8              1980         121150573.0                 28.190022\n",
       "9              1991         146917459.0                 21.268481\n",
       "10             2000         169872859.0                 15.624692\n",
       "11             2010         190755799.0                 12.293276\n",
       "12             2022         203080756.0                  6.461118"
      ]
     },
     "execution_count": 11,
     "metadata": {},
     "output_type": "execute_result"
    }
   ],
   "source": [
    "# calcular crescimento populacional por ano\n",
    "df_crescimento = df.groupby('ano_da_pesquisa')['populacao(pessoas)'].sum().reset_index()\n",
    "\n",
    "# pct_change o calculo de crescimento em porcentagem.\n",
    "# ex.: x - y = z -> z / x = proporção de crescimento.\n",
    "df_crescimento['crescimento_populacional'] = df_crescimento['populacao(pessoas)'].pct_change() * 100\n",
    "df_crescimento\n",
    "# VISUALIZAÇÃO DOS DADOS"
   ]
  },
  {
   "cell_type": "code",
   "execution_count": 12,
   "metadata": {},
   "outputs": [
    {
     "data": {
      "text/plain": [
       "np.float64(29.656878016415916)"
      ]
     },
     "execution_count": 12,
     "metadata": {},
     "output_type": "execute_result"
    }
   ],
   "source": [
    "# média de crescimento populacional\n",
    "media_crescimento = df_crescimento['crescimento_populacional'].mean()\n",
    "media_crescimento"
   ]
  },
  {
   "cell_type": "code",
   "execution_count": 45,
   "metadata": {},
   "outputs": [
    {
     "data": {
      "text/plain": [
       "(UF                      Roraima\n",
       " populacao(pessoas)    1798794.0\n",
       " Name: 22, dtype: object,\n",
       " UF                      São Paulo\n",
       " populacao(pessoas)    235975270.0\n",
       " Name: 25, dtype: object)"
      ]
     },
     "execution_count": 45,
     "metadata": {},
     "output_type": "execute_result"
    }
   ],
   "source": [
    "# checando território mais e menos populoso\n",
    "df_soma = df.groupby('UF')['populacao(pessoas)'].sum().reset_index()\n",
    "df_soma\n",
    "\n",
    "uf_populoso = max(df_soma['populacao(pessoas)'])\n",
    "uf_menos_populoso = min(df_soma['populacao(pessoas)'])\n",
    "\n",
    "linha_menos, coluna = (df_soma == uf_menos_populoso).stack().idxmax()\n",
    "linha_mais, coluna = (df_soma == uf_populoso).stack().idxmax()\n",
    "\n",
    "uf_populoso = df_soma.loc[linha_mais]\n",
    "uf_menos_populoso = df_soma.loc[linha_menos]\n",
    "\n",
    "uf_menos_populoso, uf_populoso"
   ]
  },
  {
   "cell_type": "markdown",
   "metadata": {},
   "source": [
    "# VISUALIZAÇÃO DE DADOS"
   ]
  },
  {
   "cell_type": "code",
   "execution_count": 13,
   "metadata": {},
   "outputs": [
    {
     "data": {
      "image/png": "[encoded data removed]",
      "text/plain": [
       "<Figure size 1500x800 with 1 Axes>"
      ]
     },
     "metadata": {},
     "output_type": "display_data"
    }
   ],
   "source": [
    "plt.figure(figsize=(15, 8))\n",
    "\n",
    "# label para y\n",
    "valor_y = np.arange(10e6, 220e6, 30e6)\n",
    "\n",
    "# plotar dados\n",
    "plt.plot(df_crescimento['ano_da_pesquisa'], df_crescimento['populacao(pessoas)'], marker='o')\n",
    "\n",
    "# nomeando o eixo y e passando format para tirar valor decimal\n",
    "plt.yticks(valor_y, [ format(val / 1e6, '.0f') + 'Mi' for val in valor_y])\n",
    "\n",
    "\n",
    "plt.grid(True)\n",
    "plt.title('Crescimento populacional 1872 - 2022')\n",
    "plt.xlabel('Ano da pesquisa')\n",
    "plt.ylabel('População')\n",
    "\n",
    "plt.show()"
   ]
  },
  {
   "cell_type": "code",
   "execution_count": 14,
   "metadata": {},
   "outputs": [
    {
     "data": {
      "image/png": "[encoded data removed]",
      "text/plain": [
       "<Figure size 1500x800 with 1 Axes>"
      ]
     },
     "metadata": {},
     "output_type": "display_data"
    }
   ],
   "source": [
    "plt.figure(figsize=(15, 8))\n",
    "\n",
    "valor_x = np.arange(1880, 2030, 20)\n",
    "valor_y = np.arange(0, 90, 10)\n",
    "\n",
    "# plotagem crescimento populacional em porcentagem\n",
    "plt.bar(df_crescimento['ano_da_pesquisa'], df_crescimento['crescimento_populacional'], width=6)\n",
    "\n",
    "# alterando o label do eixo\n",
    "plt.xticks(valor_x, [var for var in valor_x])\n",
    "plt.yticks(valor_y, [format(var,'.0f') + '%' for var in valor_y])\n",
    "\n",
    "# rotacionando o label em graus\n",
    "plt.xticks(rotation=60)\n",
    "\n",
    "plt.title('CRESCIMENTO POPULACIONAL NO ANO')\n",
    "plt.xlabel('Ano da pesquisa')\n",
    "plt.ylabel('Crescimento da população no ano')\n",
    "\n",
    "plt.show()"
   ]
  }
 ],
 "metadata": {
  "kernelspec": {
   "display_name": "Python 3 (ipykernel)",
   "language": "python",
   "name": "python3"
  },
  "language_info": {
   "codemirror_mode": {
    "name": "ipython",
    "version": 3
   },
   "file_extension": ".py",
   "mimetype": "text/x-python",
   "name": "python",
   "nbconvert_exporter": "python",
   "pygments_lexer": "ipython3",
   "version": "3.12.4"
  }
 },
 "nbformat": 4,
 "nbformat_minor": 2
}
