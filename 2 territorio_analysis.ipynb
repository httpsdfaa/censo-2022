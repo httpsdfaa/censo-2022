{
 "cells": [
  {
   "cell_type": "code",
   "execution_count": 1,
   "metadata": {},
   "outputs": [],
   "source": [
    "import pandas as pd\n",
    "import numpy as np\n",
    "import matplotlib.pyplot as plt"
   ]
  },
  {
   "cell_type": "code",
   "execution_count": 6,
   "metadata": {},
   "outputs": [],
   "source": [
    "df = pd.read_csv('raw_datas/Censo 2022 - Território - mescla.csv', sep=\";\")"
   ]
  },
  {
   "cell_type": "markdown",
   "metadata": {},
   "source": [
    "# Exploração dos dados"
   ]
  },
  {
   "cell_type": "code",
   "execution_count": 8,
   "metadata": {},
   "outputs": [
    {
     "data": {
      "text/html": [
       "<div>\n",
       "<style scoped>\n",
       "    .dataframe tbody tr th:only-of-type {\n",
       "        vertical-align: middle;\n",
       "    }\n",
       "\n",
       "    .dataframe tbody tr th {\n",
       "        vertical-align: top;\n",
       "    }\n",
       "\n",
       "    .dataframe thead th {\n",
       "        text-align: right;\n",
       "    }\n",
       "</style>\n",
       "<table border=\"1\" class=\"dataframe\">\n",
       "  <thead>\n",
       "    <tr style=\"text-align: right;\">\n",
       "      <th></th>\n",
       "      <th>ano_da_pesquisa</th>\n",
       "      <th>area(km2)</th>\n",
       "      <th>densidade_demografica(hab/km2)</th>\n",
       "      <th>UF</th>\n",
       "    </tr>\n",
       "  </thead>\n",
       "  <tbody>\n",
       "    <tr>\n",
       "      <th>0</th>\n",
       "      <td>2022</td>\n",
       "      <td>164173.43</td>\n",
       "      <td>5.06</td>\n",
       "      <td>Acre</td>\n",
       "    </tr>\n",
       "    <tr>\n",
       "      <th>1</th>\n",
       "      <td>2022</td>\n",
       "      <td>27830.66</td>\n",
       "      <td>112.38</td>\n",
       "      <td>Alagoas</td>\n",
       "    </tr>\n",
       "    <tr>\n",
       "      <th>2</th>\n",
       "      <td>2022</td>\n",
       "      <td>142470.76</td>\n",
       "      <td>5.15</td>\n",
       "      <td>Amapá</td>\n",
       "    </tr>\n",
       "    <tr>\n",
       "      <th>3</th>\n",
       "      <td>2022</td>\n",
       "      <td>1559255.88</td>\n",
       "      <td>2.53</td>\n",
       "      <td>Amazonas</td>\n",
       "    </tr>\n",
       "    <tr>\n",
       "      <th>4</th>\n",
       "      <td>2022</td>\n",
       "      <td>564760.43</td>\n",
       "      <td>25.04</td>\n",
       "      <td>Bahia</td>\n",
       "    </tr>\n",
       "  </tbody>\n",
       "</table>\n",
       "</div>"
      ],
      "text/plain": [
       "   ano_da_pesquisa   area(km2)  densidade_demografica(hab/km2)        UF\n",
       "0             2022   164173.43                            5.06      Acre\n",
       "1             2022    27830.66                          112.38   Alagoas\n",
       "2             2022   142470.76                            5.15     Amapá\n",
       "3             2022  1559255.88                            2.53  Amazonas\n",
       "4             2022   564760.43                           25.04     Bahia"
      ]
     },
     "execution_count": 8,
     "metadata": {},
     "output_type": "execute_result"
    }
   ],
   "source": [
    "# checando as primeiras linhas\n",
    "df.head()"
   ]
  },
  {
   "cell_type": "code",
   "execution_count": 9,
   "metadata": {},
   "outputs": [
    {
     "data": {
      "text/plain": [
       "'\\n    Utilizei o excel para tratar os dados e fazer limpeza, então não farei uma\\n    limpeza aprofundada pois aparentemente não há necessidade\\n'"
      ]
     },
     "execution_count": 9,
     "metadata": {},
     "output_type": "execute_result"
    }
   ],
   "source": [
    "\"\"\"\n",
    "    Utilizei o excel para tratar os dados e fazer limpeza, então não farei uma\n",
    "    limpeza aprofundada pois aparentemente não há necessidade\n",
    "\"\"\""
   ]
  },
  {
   "cell_type": "code",
   "execution_count": 12,
   "metadata": {},
   "outputs": [
    {
     "data": {
      "text/plain": [
       "ano_da_pesquisa                   0\n",
       "area(km2)                         0\n",
       "densidade_demografica(hab/km2)    0\n",
       "UF                                0\n",
       "dtype: int64"
      ]
     },
     "execution_count": 12,
     "metadata": {},
     "output_type": "execute_result"
    }
   ],
   "source": [
    "# verificando se há valores nulos\n",
    "df.isnull().sum()"
   ]
  },
  {
   "cell_type": "code",
   "execution_count": 14,
   "metadata": {},
   "outputs": [
    {
     "data": {
      "text/html": [
       "<div>\n",
       "<style scoped>\n",
       "    .dataframe tbody tr th:only-of-type {\n",
       "        vertical-align: middle;\n",
       "    }\n",
       "\n",
       "    .dataframe tbody tr th {\n",
       "        vertical-align: top;\n",
       "    }\n",
       "\n",
       "    .dataframe thead th {\n",
       "        text-align: right;\n",
       "    }\n",
       "</style>\n",
       "<table border=\"1\" class=\"dataframe\">\n",
       "  <thead>\n",
       "    <tr style=\"text-align: right;\">\n",
       "      <th></th>\n",
       "      <th>ano_da_pesquisa</th>\n",
       "      <th>area(km2)</th>\n",
       "      <th>densidade_demografica(hab/km2)</th>\n",
       "    </tr>\n",
       "  </thead>\n",
       "  <tbody>\n",
       "    <tr>\n",
       "      <th>count</th>\n",
       "      <td>27.0</td>\n",
       "      <td>2.700000e+01</td>\n",
       "      <td>27.000000</td>\n",
       "    </tr>\n",
       "    <tr>\n",
       "      <th>mean</th>\n",
       "      <td>2022.0</td>\n",
       "      <td>3.152007e+05</td>\n",
       "      <td>72.278889</td>\n",
       "    </tr>\n",
       "    <tr>\n",
       "      <th>std</th>\n",
       "      <td>0.0</td>\n",
       "      <td>3.751304e+05</td>\n",
       "      <td>112.598245</td>\n",
       "    </tr>\n",
       "    <tr>\n",
       "      <th>min</th>\n",
       "      <td>2022.0</td>\n",
       "      <td>5.760780e+03</td>\n",
       "      <td>2.530000</td>\n",
       "    </tr>\n",
       "    <tr>\n",
       "      <th>25%</th>\n",
       "      <td>2022.0</td>\n",
       "      <td>7.609896e+04</td>\n",
       "      <td>6.585000</td>\n",
       "    </tr>\n",
       "    <tr>\n",
       "      <th>50%</th>\n",
       "      <td>2022.0</td>\n",
       "      <td>2.236445e+05</td>\n",
       "      <td>35.020000</td>\n",
       "    </tr>\n",
       "    <tr>\n",
       "      <th>75%</th>\n",
       "      <td>2022.0</td>\n",
       "      <td>3.349472e+05</td>\n",
       "      <td>81.355000</td>\n",
       "    </tr>\n",
       "    <tr>\n",
       "      <th>max</th>\n",
       "      <td>2022.0</td>\n",
       "      <td>1.559256e+06</td>\n",
       "      <td>489.060000</td>\n",
       "    </tr>\n",
       "  </tbody>\n",
       "</table>\n",
       "</div>"
      ],
      "text/plain": [
       "       ano_da_pesquisa     area(km2)  densidade_demografica(hab/km2)\n",
       "count             27.0  2.700000e+01                       27.000000\n",
       "mean            2022.0  3.152007e+05                       72.278889\n",
       "std                0.0  3.751304e+05                      112.598245\n",
       "min             2022.0  5.760780e+03                        2.530000\n",
       "25%             2022.0  7.609896e+04                        6.585000\n",
       "50%             2022.0  2.236445e+05                       35.020000\n",
       "75%             2022.0  3.349472e+05                       81.355000\n",
       "max             2022.0  1.559256e+06                      489.060000"
      ]
     },
     "execution_count": 14,
     "metadata": {},
     "output_type": "execute_result"
    }
   ],
   "source": [
    "# Já consegui alguns dados que é preciso sobre a densidade_demográfica\n",
    "df.describe()"
   ]
  },
  {
   "cell_type": "code",
   "execution_count": 79,
   "metadata": {},
   "outputs": [
    {
     "name": "stdout",
     "output_type": "stream",
     "text": [
      "MAIS DENSO\n",
      "\n",
      "ano_da_pesquisa                               2022\n",
      "area(km2)                                  5760.78\n",
      "densidade_demografica(hab/km2)              489.06\n",
      "UF                                Distrito Federal\n",
      "Name: 6, dtype: object \n",
      "\n",
      "\n",
      "MENOS DENSO\n",
      "\n",
      "ano_da_pesquisa                         2022\n",
      "area(km2)                         1559255.88\n",
      "densidade_demografica(hab/km2)          2.53\n",
      "UF                                  Amazonas\n",
      "Name: 3, dtype: object\n"
     ]
    }
   ],
   "source": [
    "# checar o território mais denso e menos denso\n",
    "uf_denso = max(df['densidade_demografica(hab/km2)'])\n",
    "uf_menos_denso = min(df['densidade_demografica(hab/km2)'])\n",
    "\n",
    "# achando os valores mais e menos populoso\n",
    "linha_mais, coluna = (df == uf_denso).stack().idxmax()\n",
    "linha_menos, coluna = (df == uf_menos_denso).stack().idxmax()\n",
    "\n",
    "mais_denso = df.loc[linha_mais]\n",
    "menos_denso = df.loc[linha_menos]\n",
    "\n",
    "print(f'MAIS DENSO\\n\\n{mais_denso} \\n\\n')\n",
    "print(f'MENOS DENSO\\n\\n{menos_denso}')\n"
   ]
  },
  {
   "cell_type": "code",
   "execution_count": null,
   "metadata": {},
   "outputs": [],
   "source": []
  }
 ],
 "metadata": {
  "kernelspec": {
   "display_name": "venv",
   "language": "python",
   "name": "python3"
  },
  "language_info": {
   "codemirror_mode": {
    "name": "ipython",
    "version": 3
   },
   "file_extension": ".py",
   "mimetype": "text/x-python",
   "name": "python",
   "nbconvert_exporter": "python",
   "pygments_lexer": "ipython3",
   "version": "3.12.4"
  }
 },
 "nbformat": 4,
 "nbformat_minor": 2
}
